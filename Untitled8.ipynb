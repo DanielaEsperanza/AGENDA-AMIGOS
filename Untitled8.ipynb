{
  "nbformat": 4,
  "nbformat_minor": 0,
  "metadata": {
    "colab": {
      "provenance": [],
      "authorship_tag": "ABX9TyMx3Jkjpg2I6Wj6VaLvtkwz",
      "include_colab_link": true
    },
    "kernelspec": {
      "name": "python3",
      "display_name": "Python 3"
    },
    "language_info": {
      "name": "python"
    }
  },
  "cells": [
    {
      "cell_type": "markdown",
      "metadata": {
        "id": "view-in-github",
        "colab_type": "text"
      },
      "source": [
        "<a href=\"https://colab.research.google.com/github/DanielaEsperanza/AGENDA-AMIGOS/blob/master/Untitled8.ipynb\" target=\"_parent\"><img src=\"https://colab.research.google.com/assets/colab-badge.svg\" alt=\"Open In Colab\"/></a>"
      ]
    },
    {
      "cell_type": "markdown",
      "source": [
        "#KARLA DANIELA TORRES ESPERANZA\n",
        "#ALVARO ANTONIO RIVERA MORAN\n",
        "#RIGOBERTO ALEXANDER MEJIA SORTO\n",
        "#DIMAS ISRAEL MELARA ROSALES\n"
      ],
      "metadata": {
        "id": "hNPsMDf3FkFE"
      }
    },
    {
      "cell_type": "code",
      "source": [
        "import tensorflow as tf\n",
        "\n",
        "import numpy as np\n",
        "import matplotlib.pyplot as plt\n",
        "\n",
        "\n",
        "                                      "
      ],
      "metadata": {
        "id": "fo5KdQX8F2QB"
      },
      "execution_count": 7,
      "outputs": []
    },
    {
      "cell_type": "markdown",
      "source": [
        "# VISUALIZAR LOS DATOS"
      ],
      "metadata": {
        "id": "0zBrtVbQGvhy"
      }
    },
    {
      "cell_type": "code",
      "source": [
        "# Cargar los datos de entrenamiento premezclados de fashion-mnist y los datos de prueba\n",
        "(x_train, y_train), (x_test, y_test) = tf.keras.datasets.fashion_mnist.load_data()\n",
        "\n",
        "print(\"x_train shape:\", x_train.shape, \"y_train shape:\", y_train.shape)"
      ],
      "metadata": {
        "colab": {
          "base_uri": "https://localhost:8080/"
        },
        "id": "F4afDjjGrZtR",
        "outputId": "081f3cbe-b163-482f-c1c4-44ee3beee758"
      },
      "execution_count": 2,
      "outputs": [
        {
          "output_type": "stream",
          "name": "stdout",
          "text": [
            "Downloading data from https://storage.googleapis.com/tensorflow/tf-keras-datasets/train-labels-idx1-ubyte.gz\n",
            "32768/29515 [=================================] - 0s 0us/step\n",
            "40960/29515 [=========================================] - 0s 0us/step\n",
            "Downloading data from https://storage.googleapis.com/tensorflow/tf-keras-datasets/train-images-idx3-ubyte.gz\n",
            "26427392/26421880 [==============================] - 0s 0us/step\n",
            "26435584/26421880 [==============================] - 0s 0us/step\n",
            "Downloading data from https://storage.googleapis.com/tensorflow/tf-keras-datasets/t10k-labels-idx1-ubyte.gz\n",
            "16384/5148 [===============================================================================================] - 0s 0us/step\n",
            "Downloading data from https://storage.googleapis.com/tensorflow/tf-keras-datasets/t10k-images-idx3-ubyte.gz\n",
            "4423680/4422102 [==============================] - 0s 0us/step\n",
            "4431872/4422102 [==============================] - 0s 0us/step\n",
            "x_train shape: (60000, 28, 28) y_train shape: (60000,)\n"
          ]
        }
      ]
    },
    {
      "cell_type": "code",
      "source": [
        "# Imprimir la forma del conjunto de entrenamiento: tener  en cuenta que hay 60,000.00 datos de entrenamiento con un tamaño de imagen de 28x28\n",
        "#60,000.00 etiquetas de entrenamiento\n",
        "print(\"x_train shape:\", x_train.shape, \"y_train shape:\", y_train.shape)\n",
        "\n",
        "# Imprimir el número de conjuntos de datos de entrenamiento y prueba\n",
        "print(x_train.shape[0], 'train set')\n",
        "print(x_test.shape[0], 'test set')\n",
        "\n",
        "# Definir las etiquetas de texto\n",
        "fashion_mnist_labels = [\"Camiseta/parte superior\",      # index 0\n",
        "                        \"Pantalon\",                     # index 1\n",
        "                        \"Sueter\",                       # index 2 \n",
        "                        \"Vestido\",                      # index 3 \n",
        "                        \"Saco\",                         # index 4\n",
        "                        \"Sandalia\",                     # index 5\n",
        "                        \"Camisa\",                       # index 6 \n",
        "                        \"Tenis\",                        # index 7 \n",
        "                        \"Bolsa\",                      # index 8 \n",
        "                        \"Botin\"]                      # index 9"
      ],
      "metadata": {
        "colab": {
          "base_uri": "https://localhost:8080/"
        },
        "id": "4OPLfzP9rt2f",
        "outputId": "5e562240-e251-4b13-af2c-e44a209d600e"
      },
      "execution_count": 4,
      "outputs": [
        {
          "output_type": "stream",
          "name": "stdout",
          "text": [
            "x_train shape: (60000, 28, 28) y_train shape: (60000,)\n",
            "60000 train set\n",
            "10000 test set\n"
          ]
        }
      ]
    },
    {
      "cell_type": "code",
      "source": [
        "# índice de imágenes, puede elegir cualquier número entre 0 y 59,999\n",
        "img_index = 5\n",
        "# y_train contiene las etiquetas, que van de 0 a 9\n",
        "# Imprime la etiqueta, por ejemplo 2 Sueter\n",
        "label_index = y_train[img_index]\n",
        "print (\"y = \" + str(label_index) + \" \" +(fashion_mnist_labels[label_index]))\n",
        "# Muestra una de las imágenes del conjunto de datos de entrenamiento.\n",
        "plt.imshow(x_train[img_index])"
      ],
      "metadata": {
        "colab": {
          "base_uri": "https://localhost:8080/",
          "height": 300
        },
        "id": "Ky5LdC_9tjuv",
        "outputId": "580efbb6-cded-40a4-f3f0-09f8360f74e3"
      },
      "execution_count": 5,
      "outputs": [
        {
          "output_type": "stream",
          "name": "stdout",
          "text": [
            "y = 2 Sueter\n"
          ]
        },
        {
          "output_type": "execute_result",
          "data": {
            "text/plain": [
              "<matplotlib.image.AxesImage at 0x7f52b7371b90>"
            ]
          },
          "metadata": {},
          "execution_count": 5
        },
        {
          "output_type": "display_data",
          "data": {
            "text/plain": [
              "<Figure size 432x288 with 1 Axes>"
            ],
            "image/png": "[encoded data removed]"
          },
          "metadata": {
            "needs_background": "light"
          }
        }
      ]
    },
    {
      "cell_type": "code",
      "source": [
        "w, h = 28, 28\n",
        "x_train = x_train.reshape(x_train.shape[0], w, h, 1)\n",
        "x_test = x_test.reshape(x_test.shape[0], w, h, 1)\n",
        "\n",
        "x_train.shape"
      ],
      "metadata": {
        "colab": {
          "base_uri": "https://localhost:8080/"
        },
        "id": "tn122ppOuD0M",
        "outputId": "85a98c56-e5e2-46d4-860e-bcd151cfb1de"
      },
      "execution_count": 8,
      "outputs": [
        {
          "output_type": "execute_result",
          "data": {
            "text/plain": [
              "(60000, 28, 28, 1)"
            ]
          },
          "metadata": {},
          "execution_count": 8
        }
      ]
    },
    {
      "cell_type": "code",
      "source": [
        "from tensorflow.keras.layers import Dense, Conv2D, MaxPooling2D, Dropout, Flatten\n",
        "\n",
        "model = tf.keras.Sequential()\n",
        "\n",
        "model.add(Conv2D(filters=64, kernel_size=2, padding='same', activation='relu', input_shape=(28,28,1))) \n",
        "model.add(MaxPooling2D(pool_size=2))\n",
        "model.add(Dropout(0.3))\n",
        "\n",
        "model.add(Conv2D(filters=32, kernel_size=2, padding='same', activation='relu'))\n",
        "model.add(MaxPooling2D(pool_size=2))\n",
        "model.add(Dropout(0.3))\n",
        "\n",
        "model.add(Flatten())\n",
        "model.add(Dense(256, activation='relu'))\n",
        "model.add(Dropout(0.5))\n",
        "model.add(Dense(10, activation='softmax'))\n",
        "\n",
        "model.summary()"
      ],
      "metadata": {
        "colab": {
          "base_uri": "https://localhost:8080/"
        },
        "id": "2CNCv-XhuUS5",
        "outputId": "bdea6219-1e7f-4dff-980b-899cec016a63"
      },
      "execution_count": 9,
      "outputs": [
        {
          "output_type": "stream",
          "name": "stdout",
          "text": [
            "Model: \"sequential\"\n",
            "_________________________________________________________________\n",
            " Layer (type)                Output Shape              Param #   \n",
            "=================================================================\n",
            " conv2d (Conv2D)             (None, 28, 28, 64)        320       \n",
            "                                                                 \n",
            " max_pooling2d (MaxPooling2D  (None, 14, 14, 64)       0         \n",
            " )                                                               \n",
            "                                                                 \n",
            " dropout (Dropout)           (None, 14, 14, 64)        0         \n",
            "                                                                 \n",
            " conv2d_1 (Conv2D)           (None, 14, 14, 32)        8224      \n",
            "                                                                 \n",
            " max_pooling2d_1 (MaxPooling  (None, 7, 7, 32)         0         \n",
            " 2D)                                                             \n",
            "                                                                 \n",
            " dropout_1 (Dropout)         (None, 7, 7, 32)          0         \n",
            "                                                                 \n",
            " flatten (Flatten)           (None, 1568)              0         \n",
            "                                                                 \n",
            " dense (Dense)               (None, 256)               401664    \n",
            "                                                                 \n",
            " dropout_2 (Dropout)         (None, 256)               0         \n",
            "                                                                 \n",
            " dense_1 (Dense)             (None, 10)                2570      \n",
            "                                                                 \n",
            "=================================================================\n",
            "Total params: 412,778\n",
            "Trainable params: 412,778\n",
            "Non-trainable params: 0\n",
            "_________________________________________________________________\n"
          ]
        }
      ]
    },
    {
      "cell_type": "code",
      "source": [
        "BATCH_SIZE=1000\n",
        "EPOCHS = 20\n",
        "\n",
        "model.compile(loss='sparse_categorical_crossentropy',\n",
        "             optimizer='adam',\n",
        "             metrics=['accuracy'])\n",
        "%time history = model.fit(x_train, y_train, epochs=EPOCHS, batch_size=BATCH_SIZE, validation_split=0.2, verbose=1)"
      ],
      "metadata": {
        "colab": {
          "base_uri": "https://localhost:8080/"
        },
        "id": "Hzvz-XiWuZN6",
        "outputId": "57c89fed-8fd1-4bc8-c89c-7c1c03ba6e58"
      },
      "execution_count": 11,
      "outputs": [
        {
          "output_type": "stream",
          "name": "stdout",
          "text": [
            "Epoch 1/20\n",
            "48/48 [==============================] - 33s 678ms/step - loss: 6.9113 - accuracy: 0.4189 - val_loss: 0.8744 - val_accuracy: 0.6824\n",
            "Epoch 2/20\n",
            "48/48 [==============================] - 32s 671ms/step - loss: 1.0400 - accuracy: 0.6230 - val_loss: 0.6613 - val_accuracy: 0.7563\n",
            "Epoch 3/20\n",
            "48/48 [==============================] - 32s 669ms/step - loss: 0.8336 - accuracy: 0.6930 - val_loss: 0.5826 - val_accuracy: 0.7803\n",
            "Epoch 4/20\n",
            "48/48 [==============================] - 32s 669ms/step - loss: 0.7350 - accuracy: 0.7255 - val_loss: 0.5186 - val_accuracy: 0.8082\n",
            "Epoch 5/20\n",
            "48/48 [==============================] - 32s 665ms/step - loss: 0.6780 - accuracy: 0.7449 - val_loss: 0.4885 - val_accuracy: 0.8163\n",
            "Epoch 6/20\n",
            "48/48 [==============================] - 32s 668ms/step - loss: 0.6395 - accuracy: 0.7594 - val_loss: 0.4763 - val_accuracy: 0.8236\n",
            "Epoch 7/20\n",
            "48/48 [==============================] - 32s 665ms/step - loss: 0.6085 - accuracy: 0.7711 - val_loss: 0.4517 - val_accuracy: 0.8349\n",
            "Epoch 8/20\n",
            "48/48 [==============================] - 32s 665ms/step - loss: 0.5841 - accuracy: 0.7813 - val_loss: 0.4367 - val_accuracy: 0.8406\n",
            "Epoch 9/20\n",
            "48/48 [==============================] - 32s 664ms/step - loss: 0.5635 - accuracy: 0.7882 - val_loss: 0.4291 - val_accuracy: 0.8445\n",
            "Epoch 10/20\n",
            "48/48 [==============================] - 32s 664ms/step - loss: 0.5484 - accuracy: 0.7905 - val_loss: 0.4217 - val_accuracy: 0.8454\n",
            "Epoch 11/20\n",
            "48/48 [==============================] - 32s 664ms/step - loss: 0.5349 - accuracy: 0.7985 - val_loss: 0.4070 - val_accuracy: 0.8477\n",
            "Epoch 12/20\n",
            "48/48 [==============================] - 32s 667ms/step - loss: 0.5197 - accuracy: 0.8028 - val_loss: 0.4048 - val_accuracy: 0.8508\n",
            "Epoch 13/20\n",
            "48/48 [==============================] - 32s 665ms/step - loss: 0.5083 - accuracy: 0.8096 - val_loss: 0.3874 - val_accuracy: 0.8593\n",
            "Epoch 14/20\n",
            "48/48 [==============================] - 32s 665ms/step - loss: 0.4933 - accuracy: 0.8150 - val_loss: 0.3821 - val_accuracy: 0.8581\n",
            "Epoch 15/20\n",
            "48/48 [==============================] - 32s 665ms/step - loss: 0.4901 - accuracy: 0.8150 - val_loss: 0.3711 - val_accuracy: 0.8634\n",
            "Epoch 16/20\n",
            "48/48 [==============================] - 32s 666ms/step - loss: 0.4751 - accuracy: 0.8206 - val_loss: 0.3712 - val_accuracy: 0.8662\n",
            "Epoch 17/20\n",
            "48/48 [==============================] - 32s 663ms/step - loss: 0.4688 - accuracy: 0.8244 - val_loss: 0.3589 - val_accuracy: 0.8666\n",
            "Epoch 18/20\n",
            "48/48 [==============================] - 32s 666ms/step - loss: 0.4610 - accuracy: 0.8272 - val_loss: 0.3543 - val_accuracy: 0.8730\n",
            "Epoch 19/20\n",
            "48/48 [==============================] - 32s 666ms/step - loss: 0.4542 - accuracy: 0.8299 - val_loss: 0.3537 - val_accuracy: 0.8723\n",
            "Epoch 20/20\n",
            "48/48 [==============================] - 32s 665ms/step - loss: 0.4403 - accuracy: 0.8356 - val_loss: 0.3443 - val_accuracy: 0.8739\n",
            "CPU times: user 20min 16s, sys: 12.5 s, total: 20min 29s\n",
            "Wall time: 10min 39s\n"
          ]
        }
      ]
    },
    {
      "cell_type": "code",
      "source": [
        "train_loss, train_accuracy = model.evaluate(x_train, y_train, batch_size=BATCH_SIZE)\n",
        "train_accuracy"
      ],
      "metadata": {
        "colab": {
          "base_uri": "https://localhost:8080/"
        },
        "id": "EFLq9xe9zy54",
        "outputId": "41156211-c3e3-4ad8-9233-7ee47a883c99"
      },
      "execution_count": 12,
      "outputs": [
        {
          "output_type": "stream",
          "name": "stdout",
          "text": [
            "60/60 [==============================] - 10s 159ms/step - loss: 0.3243 - accuracy: 0.8793\n"
          ]
        },
        {
          "output_type": "execute_result",
          "data": {
            "text/plain": [
              "0.8792833089828491"
            ]
          },
          "metadata": {},
          "execution_count": 12
        }
      ]
    },
    {
      "cell_type": "code",
      "source": [
        "test_loss, test_accuracy = model.evaluate(x_test, y_test, batch_size=BATCH_SIZE)\n",
        "test_accuracy"
      ],
      "metadata": {
        "colab": {
          "base_uri": "https://localhost:8080/"
        },
        "id": "8VWRu5APz3FX",
        "outputId": "38dce710-cd6a-49be-83a2-a994a4c7c555"
      },
      "execution_count": 13,
      "outputs": [
        {
          "output_type": "stream",
          "name": "stdout",
          "text": [
            "10/10 [==============================] - 1s 136ms/step - loss: 0.3592 - accuracy: 0.8671\n"
          ]
        },
        {
          "output_type": "execute_result",
          "data": {
            "text/plain": [
              "0.8671000003814697"
            ]
          },
          "metadata": {},
          "execution_count": 13
        }
      ]
    },
    {
      "cell_type": "code",
      "source": [
        "y_hat = model.predict(x_test)\n",
        "\n",
        "# Trazar una muestra aleatoria de 10 imágenes de prueba, sus etiquetas predichas y la realidad del terreno\n",
        "figure = plt.figure(figsize=(20, 8))\n",
        "for i, index in enumerate(np.random.choice(x_test.shape[0], size=15, replace=False)):\n",
        "    ax = figure.add_subplot(3, 5, i + 1, xticks=[], yticks=[])\n",
        "    # Mostrar cada imagen\n",
        "    ax.imshow(np.squeeze(x_test[index]))\n",
        "    predict_index = np.argmax(y_hat[index])\n",
        "    true_index = y_test[index]\n",
        "    # Establecer el título para cada imagen.\n",
        "    ax.set_title(\"{} ({})\".format(fashion_mnist_labels[predict_index], \n",
        "                                  fashion_mnist_labels[true_index]),\n",
        "                                  color=(\"purple\" if predict_index == true_index else \"black\"))"
      ],
      "metadata": {
        "colab": {
          "base_uri": "https://localhost:8080/",
          "height": 485
        },
        "id": "4CG7hlGb0WBR",
        "outputId": "72536247-be83-4137-ea90-c1250e5e7869"
      },
      "execution_count": 15,
      "outputs": [
        {
          "output_type": "display_data",
          "data": {
            "text/plain": [
              "<Figure size 1440x576 with 15 Axes>"
            ],
            "image/png": "[encoded data removed]"
          },
          "metadata": {}
        }
      ]
    }
  ]
}