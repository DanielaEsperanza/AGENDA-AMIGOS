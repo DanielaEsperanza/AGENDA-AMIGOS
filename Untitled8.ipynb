{
  "nbformat": 4,
  "nbformat_minor": 0,
  "metadata": {
    "colab": {
      "provenance": [],
      "authorship_tag": "ABX9TyP3Qw/1mE806eBecqXw9fph",
      "include_colab_link": true
    },
    "kernelspec": {
      "name": "python3",
      "display_name": "Python 3"
    },
    "language_info": {
      "name": "python"
    }
  },
  "cells": [
    {
      "cell_type": "markdown",
      "metadata": {
        "id": "view-in-github",
        "colab_type": "text"
      },
      "source": [
        "<a href=\"https://colab.research.google.com/github/DanielaEsperanza/AGENDA-AMIGOS/blob/master/Untitled8.ipynb\" target=\"_parent\"><img src=\"https://colab.research.google.com/assets/colab-badge.svg\" alt=\"Open In Colab\"/></a>"
      ]
    },
    {
      "cell_type": "markdown",
      "source": [
        "#KARLA DANIELA TORRES ESPERANZA\n",
        "#ALVARO ANTONIO RIVERA MORAN\n",
        "#RIGOBERTO ALEXANDER MEJIA SORTO\n",
        "#DIMAS ISRAEL MELARA ROSALES\n"
      ],
      "metadata": {
        "id": "hNPsMDf3FkFE"
      }
    },
    {
      "cell_type": "code",
      "source": [
        "import tensorflow as tf\n",
        "\n",
        "import numpy as np\n",
        "import matplotlib.pyplot as plt"
      ],
      "metadata": {
        "id": "fo5KdQX8F2QB"
      },
      "execution_count": 7,
      "outputs": []
    },
    {
      "cell_type": "markdown",
      "source": [
        "# VISUALIZAR LOS DATOS"
      ],
      "metadata": {
        "id": "0zBrtVbQGvhy"
      }
    },
    {
      "cell_type": "code",
      "source": [
        "# Cargar los datos de entrenamiento premezclados de fashion-mnist y los datos de prueba\n",
        "(x_train, y_train), (x_test, y_test) = tf.keras.datasets.fashion_mnist.load_data()\n",
        "\n",
        "print(\"x_train shape:\", x_train.shape, \"y_train shape:\", y_train.shape)"
      ],
      "metadata": {
        "colab": {
          "base_uri": "https://localhost:8080/"
        },
        "id": "F4afDjjGrZtR",
        "outputId": "6491ca05-06e7-4e06-b6ea-78ec85ef1b2d"
      },
      "execution_count": 10,
      "outputs": [
        {
          "output_type": "stream",
          "name": "stdout",
          "text": [
            "x_train shape: (60000, 28, 28) y_train shape: (60000,)\n"
          ]
        }
      ]
    },
    {
      "cell_type": "code",
      "source": [
        "# Imprimir la forma del conjunto de entrenamiento: tener  en cuenta que hay 60,000.00 datos de entrenamiento con un tamaño de imagen de 28x28\n",
        "#60,000.00 etiquetas de entrenamiento\n",
        "print(\"x_train shape:\", x_train.shape, \"y_train shape:\", y_train.shape)\n",
        "\n",
        "# Imprimir el número de conjuntos de datos de entrenamiento y prueba\n",
        "print(x_train.shape[0], 'train set')\n",
        "print(x_test.shape[0], 'test set')\n",
        "\n",
        "# Definir las etiquetas de texto\n",
        "fashion_mnist_labels = [\"Camiseta/parte superior\",      # index 0\n",
        "                        \"Pantalon\",                     # index 1\n",
        "                        \"Sueter\",                       # index 2 \n",
        "                        \"Vestido\",                      # index 3 \n",
        "                        \"Saco\",                         # index 4\n",
        "                        \"Sandalia\",                     # index 5\n",
        "                        \"Camisa\",                       # index 6 \n",
        "                        \"Tenis\",                        # index 7 \n",
        "                        \"Bolsa\",                      # index 8 \n",
        "                        \"Botin\"]                      # index 9"
      ],
      "metadata": {
        "colab": {
          "base_uri": "https://localhost:8080/"
        },
        "id": "4OPLfzP9rt2f",
        "outputId": "8684f474-07e3-43b6-d242-83abaf51b6dd"
      },
      "execution_count": 23,
      "outputs": [
        {
          "output_type": "stream",
          "name": "stdout",
          "text": [
            "x_train shape: (60000, 28, 28, 1) y_train shape: (60000,)\n",
            "60000 train set\n",
            "10000 test set\n"
          ]
        }
      ]
    },
    {
      "cell_type": "code",
      "source": [
        "# índice de imágenes, puede elegir cualquier número entre 0 y 59,999\n",
        "img_index = 5\n",
        "# y_train contiene las etiquetas, que van de 0 a 9\n",
        "label_index = y_train[img_index]\n",
        "# Imprime la etiqueta, por ejemplo 2 Sueter\n",
        "print (\"y = \" + str(label_index) + \" \" +(fashion_mnist_labels[label_index]))\n",
        "# Muestra una de las imágenes del conjunto de datos de entrenamiento.\n",
        "plt.imshow(x_train[img_index])"
      ],
      "metadata": {
        "colab": {
          "base_uri": "https://localhost:8080/",
          "height": 302
        },
        "id": "Ky5LdC_9tjuv",
        "outputId": "7a04c4e9-acc7-48e5-a1ef-671b0fc7697d"
      },
      "execution_count": 14,
      "outputs": [
        {
          "output_type": "stream",
          "name": "stdout",
          "text": [
            "y = 2 Sueter\n"
          ]
        },
        {
          "output_type": "execute_result",
          "data": {
            "text/plain": [
              "<matplotlib.image.AxesImage at 0x7f52560ab8d0>"
            ]
          },
          "metadata": {},
          "execution_count": 14
        },
        {
          "output_type": "display_data",
          "data": {
            "text/plain": [
              "<Figure size 432x288 with 1 Axes>"
            ],
            "image/png": "[encoded data removed]"
          },
          "metadata": {
            "needs_background": "light"
          }
        }
      ]
    },
    {
      "cell_type": "code",
      "source": [
        "w, h = 28, 28\n",
        "x_train = x_train.reshape(x_train.shape[0], w, h, 1)\n",
        "x_test = x_test.reshape(x_test.shape[0], w, h, 1)\n",
        "\n",
        "x_train.shape"
      ],
      "metadata": {
        "colab": {
          "base_uri": "https://localhost:8080/"
        },
        "id": "tn122ppOuD0M",
        "outputId": "79f8cf4f-0626-448d-b576-923c19d31961"
      },
      "execution_count": 15,
      "outputs": [
        {
          "output_type": "execute_result",
          "data": {
            "text/plain": [
              "(60000, 28, 28, 1)"
            ]
          },
          "metadata": {},
          "execution_count": 15
        }
      ]
    },
    {
      "cell_type": "code",
      "source": [
        "from tensorflow.keras.layers import Dense, Conv2D, MaxPooling2D, Dropout, Flatten\n",
        "\n",
        "model = tf.keras.Sequential()\n",
        "\n",
        "model.add(Conv2D(filters=64, kernel_size=2, padding='same', activation='relu', input_shape=(28,28,1))) \n",
        "model.add(MaxPooling2D(pool_size=2))\n",
        "model.add(Dropout(0.3))\n",
        "\n",
        "model.add(Conv2D(filters=32, kernel_size=2, padding='same', activation='relu'))\n",
        "model.add(MaxPooling2D(pool_size=2))\n",
        "model.add(Dropout(0.3))\n",
        "\n",
        "model.add(Flatten())\n",
        "model.add(Dense(256, activation='relu'))\n",
        "model.add(Dropout(0.5))\n",
        "model.add(Dense(10, activation='softmax'))\n",
        "\n",
        "model.summary()"
      ],
      "metadata": {
        "colab": {
          "base_uri": "https://localhost:8080/"
        },
        "id": "2CNCv-XhuUS5",
        "outputId": "83ba5dcf-f41b-489e-f264-942a2d6a8d6b"
      },
      "execution_count": 17,
      "outputs": [
        {
          "output_type": "stream",
          "name": "stdout",
          "text": [
            "Model: \"sequential\"\n",
            "_________________________________________________________________\n",
            " Layer (type)                Output Shape              Param #   \n",
            "=================================================================\n",
            " conv2d (Conv2D)             (None, 28, 28, 64)        320       \n",
            "                                                                 \n",
            " max_pooling2d (MaxPooling2D  (None, 14, 14, 64)       0         \n",
            " )                                                               \n",
            "                                                                 \n",
            " dropout (Dropout)           (None, 14, 14, 64)        0         \n",
            "                                                                 \n",
            " conv2d_1 (Conv2D)           (None, 14, 14, 32)        8224      \n",
            "                                                                 \n",
            " max_pooling2d_1 (MaxPooling  (None, 7, 7, 32)         0         \n",
            " 2D)                                                             \n",
            "                                                                 \n",
            " dropout_1 (Dropout)         (None, 7, 7, 32)          0         \n",
            "                                                                 \n",
            " flatten (Flatten)           (None, 1568)              0         \n",
            "                                                                 \n",
            " dense (Dense)               (None, 256)               401664    \n",
            "                                                                 \n",
            " dropout_2 (Dropout)         (None, 256)               0         \n",
            "                                                                 \n",
            " dense_1 (Dense)             (None, 10)                2570      \n",
            "                                                                 \n",
            "=================================================================\n",
            "Total params: 412,778\n",
            "Trainable params: 412,778\n",
            "Non-trainable params: 0\n",
            "_________________________________________________________________\n"
          ]
        }
      ]
    },
    {
      "cell_type": "code",
      "source": [
        "BATCH_SIZE=1000\n",
        "EPOCHS = 20\n",
        "\n",
        "model.compile(loss='sparse_categorical_crossentropy',\n",
        "             optimizer='adam',\n",
        "             metrics=['accuracy'])\n",
        "%time history = model.fit(x_train, y_train, epochs=EPOCHS, batch_size=BATCH_SIZE, validation_split=0.2, verbose=1)"
      ],
      "metadata": {
        "colab": {
          "base_uri": "https://localhost:8080/"
        },
        "id": "Hzvz-XiWuZN6",
        "outputId": "d9ee2e7f-c02f-4f8e-8c9d-073a355b1678"
      },
      "execution_count": 18,
      "outputs": [
        {
          "output_type": "stream",
          "name": "stdout",
          "text": [
            "Epoch 1/20\n",
            "48/48 [==============================] - 51s 1s/step - loss: 6.2525 - accuracy: 0.4112 - val_loss: 0.9238 - val_accuracy: 0.6868\n",
            "Epoch 2/20\n",
            "48/48 [==============================] - 49s 1s/step - loss: 1.1040 - accuracy: 0.6119 - val_loss: 0.6446 - val_accuracy: 0.7643\n",
            "Epoch 3/20\n",
            "48/48 [==============================] - 48s 1s/step - loss: 0.8616 - accuracy: 0.6894 - val_loss: 0.5519 - val_accuracy: 0.7924\n",
            "Epoch 4/20\n",
            "48/48 [==============================] - 48s 1s/step - loss: 0.7407 - accuracy: 0.7295 - val_loss: 0.5030 - val_accuracy: 0.8049\n",
            "Epoch 5/20\n",
            "48/48 [==============================] - 49s 1s/step - loss: 0.6740 - accuracy: 0.7505 - val_loss: 0.4712 - val_accuracy: 0.8170\n",
            "Epoch 6/20\n",
            "48/48 [==============================] - 48s 1s/step - loss: 0.6286 - accuracy: 0.7643 - val_loss: 0.4614 - val_accuracy: 0.8251\n",
            "Epoch 7/20\n",
            "48/48 [==============================] - 48s 1s/step - loss: 0.6049 - accuracy: 0.7723 - val_loss: 0.4380 - val_accuracy: 0.8322\n",
            "Epoch 8/20\n",
            "48/48 [==============================] - 49s 1s/step - loss: 0.5755 - accuracy: 0.7841 - val_loss: 0.4240 - val_accuracy: 0.8400\n",
            "Epoch 9/20\n",
            "48/48 [==============================] - 48s 1s/step - loss: 0.5566 - accuracy: 0.7925 - val_loss: 0.4188 - val_accuracy: 0.8443\n",
            "Epoch 10/20\n",
            "48/48 [==============================] - 49s 1s/step - loss: 0.5374 - accuracy: 0.7975 - val_loss: 0.4067 - val_accuracy: 0.8508\n",
            "Epoch 11/20\n",
            "48/48 [==============================] - 48s 999ms/step - loss: 0.5288 - accuracy: 0.8022 - val_loss: 0.3980 - val_accuracy: 0.8537\n",
            "Epoch 12/20\n",
            "48/48 [==============================] - 48s 999ms/step - loss: 0.5149 - accuracy: 0.8084 - val_loss: 0.3893 - val_accuracy: 0.8596\n",
            "Epoch 13/20\n",
            "48/48 [==============================] - 49s 1s/step - loss: 0.4960 - accuracy: 0.8126 - val_loss: 0.3792 - val_accuracy: 0.8613\n",
            "Epoch 14/20\n",
            "48/48 [==============================] - 48s 1s/step - loss: 0.4857 - accuracy: 0.8199 - val_loss: 0.3713 - val_accuracy: 0.8637\n",
            "Epoch 15/20\n",
            "48/48 [==============================] - 48s 1s/step - loss: 0.4809 - accuracy: 0.8231 - val_loss: 0.3622 - val_accuracy: 0.8678\n",
            "Epoch 16/20\n",
            "48/48 [==============================] - 49s 1s/step - loss: 0.4662 - accuracy: 0.8252 - val_loss: 0.3627 - val_accuracy: 0.8679\n",
            "Epoch 17/20\n",
            "48/48 [==============================] - 48s 1s/step - loss: 0.4633 - accuracy: 0.8274 - val_loss: 0.3527 - val_accuracy: 0.8671\n",
            "Epoch 18/20\n",
            "48/48 [==============================] - 49s 1s/step - loss: 0.4504 - accuracy: 0.8324 - val_loss: 0.3530 - val_accuracy: 0.8702\n",
            "Epoch 19/20\n",
            "48/48 [==============================] - 48s 1s/step - loss: 0.4438 - accuracy: 0.8370 - val_loss: 0.3449 - val_accuracy: 0.8737\n",
            "Epoch 20/20\n",
            "48/48 [==============================] - 48s 1s/step - loss: 0.4384 - accuracy: 0.8374 - val_loss: 0.3396 - val_accuracy: 0.8765\n",
            "CPU times: user 30min 17s, sys: 19.8 s, total: 30min 37s\n",
            "Wall time: 16min 22s\n"
          ]
        }
      ]
    },
    {
      "cell_type": "code",
      "source": [
        "train_loss, train_accuracy = model.evaluate(x_train, y_train, batch_size=BATCH_SIZE)\n",
        "train_accuracy"
      ],
      "metadata": {
        "colab": {
          "base_uri": "https://localhost:8080/"
        },
        "id": "EFLq9xe9zy54",
        "outputId": "7ea05c14-ae51-4f58-81ea-45d6c4a5cfd5"
      },
      "execution_count": 19,
      "outputs": [
        {
          "output_type": "stream",
          "name": "stdout",
          "text": [
            "60/60 [==============================] - 12s 207ms/step - loss: 0.3193 - accuracy: 0.8828\n"
          ]
        },
        {
          "output_type": "execute_result",
          "data": {
            "text/plain": [
              "0.8827833533287048"
            ]
          },
          "metadata": {},
          "execution_count": 19
        }
      ]
    },
    {
      "cell_type": "code",
      "source": [
        "test_loss, test_accuracy = model.evaluate(x_test, y_test, batch_size=BATCH_SIZE)\n",
        "test_accuracy"
      ],
      "metadata": {
        "colab": {
          "base_uri": "https://localhost:8080/"
        },
        "id": "8VWRu5APz3FX",
        "outputId": "97f0eaf8-0cf6-4e9d-c1a3-4fba014fd5eb"
      },
      "execution_count": 20,
      "outputs": [
        {
          "output_type": "stream",
          "name": "stdout",
          "text": [
            "10/10 [==============================] - 2s 206ms/step - loss: 0.3526 - accuracy: 0.8708\n"
          ]
        },
        {
          "output_type": "execute_result",
          "data": {
            "text/plain": [
              "0.8708000183105469"
            ]
          },
          "metadata": {},
          "execution_count": 20
        }
      ]
    },
    {
      "cell_type": "code",
      "source": [
        "y_hat = model.predict(x_test)\n",
        "\n",
        "# Plot a random sample of 10 test images, their predicted labels and ground truth\n",
        "figure = plt.figure(figsize=(20, 8))\n",
        "for i, index in enumerate(np.random.choice(x_test.shape[0], size=15, replace=False)):\n",
        "    ax = figure.add_subplot(3, 5, i + 1, xticks=[], yticks=[])\n",
        "    # Display each image\n",
        "    ax.imshow(np.squeeze(x_test[index]))\n",
        "    predict_index = np.argmax(y_hat[index])\n",
        "    true_index = y_test[index]\n",
        "    # Set the title for each image\n",
        "    ax.set_title(\"{} ({})\".format(fashion_mnist_labels[predict_index], \n",
        "                                  fashion_mnist_labels[true_index]),\n",
        "                                  color=(\"green\" if predict_index == true_index else \"red\"))"
      ],
      "metadata": {
        "colab": {
          "base_uri": "https://localhost:8080/",
          "height": 485
        },
        "id": "4CG7hlGb0WBR",
        "outputId": "8af9c2fd-8625-455d-a333-cd27abeb9f2c"
      },
      "execution_count": 24,
      "outputs": [
        {
          "output_type": "display_data",
          "data": {
            "text/plain": [
              "<Figure size 1440x576 with 15 Axes>"
            ],
            "image/png": "[encoded data removed]"
          },
          "metadata": {}
        }
      ]
    }
  ]
}