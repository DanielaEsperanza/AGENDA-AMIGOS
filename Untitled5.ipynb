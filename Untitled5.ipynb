{
  "nbformat": 4,
  "nbformat_minor": 0,
  "metadata": {
    "colab": {
      "provenance": [],
      "authorship_tag": "ABX9TyNibTZtQzVn3UlYC8zVs+bv",
      "include_colab_link": true
    },
    "kernelspec": {
      "name": "python3",
      "display_name": "Python 3"
    },
    "language_info": {
      "name": "python"
    }
  },
  "cells": [
    {
      "cell_type": "markdown",
      "metadata": {
        "id": "view-in-github",
        "colab_type": "text"
      },
      "source": [
        "<a href=\"https://colab.research.google.com/github/DanielaEsperanza/AGENDA-AMIGOS/blob/master/Untitled5.ipynb\" target=\"_parent\"><img src=\"https://colab.research.google.com/assets/colab-badge.svg\" alt=\"Open In Colab\"/></a>"
      ]
    },
    {
      "cell_type": "code",
      "source": [
        "import pandas as pd\n",
        "import matplotlib.pyplot as plt\n",
        "\n",
        "df = \"/content/trx_tarjetas_credito.csv\"\n",
        "\n",
        "spreadsheet = pd.read_csv(df)\n",
        "\n",
        "grafico = spreadsheet[[\"Exp Type\"]].value_counts()\n",
        "print(grafico)\n",
        "grafico.to_csv(\"/content/TipoGasto.csv\")\n",
        "\n",
        "ax = grafico.plot.bar(\"Exp Type\")\n",
        "\n",
        "plt.show()\n",
        "\n",
        "grafico = spreadsheet[[\"Gender\"]].value_counts()\n",
        "print(grafico)\n",
        "\n",
        "ax = grafico.plot.bar(\"Gender\")\n",
        "plt.show()\n",
        "grafico.to_csv(\"/content/DatosGenero.csv\")\n"
      ],
      "metadata": {
        "colab": {
          "base_uri": "https://localhost:8080/",
          "height": 844
        },
        "id": "B1sAQqUyotLl",
        "outputId": "64f800d6-4e53-4017-9075-24806a8c3099"
      },
      "execution_count": 47,
      "outputs": [
        {
          "output_type": "stream",
          "name": "stdout",
          "text": [
            "Exp Type     \n",
            "Food             5463\n",
            "Fuel             5257\n",
            "Bills            5078\n",
            "Entertainment    4762\n",
            "Grocery          4754\n",
            "Travel            738\n",
            "dtype: int64\n"
          ]
        },
        {
          "output_type": "display_data",
          "data": {
            "text/plain": [
              "<Figure size 432x288 with 1 Axes>"
            ],
            "image/png": "[encoded data removed]"
          },
          "metadata": {
            "needs_background": "light"
          }
        },
        {
          "output_type": "stream",
          "name": "stdout",
          "text": [
            "Gender\n",
            "F         13680\n",
            "M         12372\n",
            "dtype: int64\n"
          ]
        },
        {
          "output_type": "display_data",
          "data": {
            "text/plain": [
              "<Figure size 432x288 with 1 Axes>"
            ],
            "image/png": "[encoded data removed]"
          },
          "metadata": {
            "needs_background": "light"
          }
        }
      ]
    },
    {
      "cell_type": "code",
      "source": [
        "tarjetas = pd.read_csv(\"/content/trx_tarjetas_credito.csv\", sep = \",\", encoding = \"utf-8\")\n",
        "datos = tarjetas[[\"City\", \"Card Type\"]].value_counts()\n",
        "print(datos)\n",
        "datos.to_csv(\"/content/TipoTarjeta.csv\")"
      ],
      "metadata": {
        "colab": {
          "base_uri": "https://localhost:8080/"
        },
        "id": "fytuI_ppp5XI",
        "outputId": "ced29950-807b-4435-ec93-b4affd880019"
      },
      "execution_count": 50,
      "outputs": [
        {
          "output_type": "stream",
          "name": "stdout",
          "text": [
            "City                   Card Type\n",
            "Bengaluru, India       Silver       983\n",
            "Greater Mumbai, India  Silver       957\n",
            "Delhi, India           Silver       956\n",
            "Ahmedabad, India       Silver       954\n",
            "                       Platinum     900\n",
            "                                   ... \n",
            "Markapur, India        Platinum       1\n",
            "Rayachoti, India       Signature      1\n",
            "                       Platinum       1\n",
            "Raxaul Bazar, India    Silver         1\n",
            "Bharuch, India         Gold           1\n",
            "Length: 3104, dtype: int64\n"
          ]
        }
      ]
    },
    {
      "cell_type": "code",
      "source": [
        "#KARLA DANIELA TORRES ESPERANZA\n",
        "#ALVARO ANTONIO RIVERA MORAN\n",
        "#RIGOBERTO ALEXANDER MEJIA SORTO\n",
        "#DIMAS ISRAEL MELARA ROSALES\n",
        "\n",
        "\n",
        "\n"
      ],
      "metadata": {
        "id": "wplLiq4LN6Ea"
      },
      "execution_count": 51,
      "outputs": []
    }
  ]
}