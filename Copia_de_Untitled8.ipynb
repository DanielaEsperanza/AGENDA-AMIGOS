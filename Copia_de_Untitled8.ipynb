{
  "nbformat": 4,
  "nbformat_minor": 0,
  "metadata": {
    "colab": {
      "provenance": [],
      "authorship_tag": "ABX9TyNChJtA5OMVNvdBpXs5/13E",
      "include_colab_link": true
    },
    "kernelspec": {
      "name": "python3",
      "display_name": "Python 3"
    },
    "language_info": {
      "name": "python"
    }
  },
  "cells": [
    {
      "cell_type": "markdown",
      "metadata": {
        "id": "view-in-github",
        "colab_type": "text"
      },
      "source": [
        "<a href=\"https://colab.research.google.com/github/DanielaEsperanza/AGENDA-AMIGOS/blob/master/Copia_de_Untitled8.ipynb\" target=\"_parent\"><img src=\"https://colab.research.google.com/assets/colab-badge.svg\" alt=\"Open In Colab\"/></a>"
      ]
    },
    {
      "cell_type": "markdown",
      "source": [
        "#KARLA DANIELA TORRES ESPERANZA\n",
        "#ALVARO ANTONIO RIVERA MORAN\n",
        "#RIGOBERTO ALEXANDER MEJIA SORTO\n",
        "#DIMAS ISRAEL MELARA ROSALES\n"
      ],
      "metadata": {
        "id": "hNPsMDf3FkFE"
      }
    },
    {
      "cell_type": "code",
      "source": [
        "import tensorflow as tf\n",
        "\n",
        "import numpy as np\n",
        "import matplotlib.pyplot as plt\n",
        "\n",
        "\n",
        "                                      "
      ],
      "metadata": {
        "id": "fo5KdQX8F2QB"
      },
      "execution_count": 1,
      "outputs": []
    },
    {
      "cell_type": "markdown",
      "source": [
        "# VISUALIZAR LOS DATOS"
      ],
      "metadata": {
        "id": "0zBrtVbQGvhy"
      }
    },
    {
      "cell_type": "code",
      "source": [
        "# Cargar los datos de entrenamiento premezclados de fashion-mnist y los datos de prueba\n",
        "(x_train, y_train), (x_test, y_test) = tf.keras.datasets.fashion_mnist.load_data()\n",
        "\n",
        "print(\"x_train shape:\", x_train.shape, \"y_train shape:\", y_train.shape)"
      ],
      "metadata": {
        "colab": {
          "base_uri": "https://localhost:8080/"
        },
        "id": "F4afDjjGrZtR",
        "outputId": "03ed1590-aa4c-48ee-b1ae-ffc0283ab8d7"
      },
      "execution_count": 2,
      "outputs": [
        {
          "output_type": "stream",
          "name": "stdout",
          "text": [
            "Downloading data from https://storage.googleapis.com/tensorflow/tf-keras-datasets/train-labels-idx1-ubyte.gz\n",
            "32768/29515 [=================================] - 0s 0us/step\n",
            "40960/29515 [=========================================] - 0s 0us/step\n",
            "Downloading data from https://storage.googleapis.com/tensorflow/tf-keras-datasets/train-images-idx3-ubyte.gz\n",
            "26427392/26421880 [==============================] - 0s 0us/step\n",
            "26435584/26421880 [==============================] - 0s 0us/step\n",
            "Downloading data from https://storage.googleapis.com/tensorflow/tf-keras-datasets/t10k-labels-idx1-ubyte.gz\n",
            "16384/5148 [===============================================================================================] - 0s 0us/step\n",
            "Downloading data from https://storage.googleapis.com/tensorflow/tf-keras-datasets/t10k-images-idx3-ubyte.gz\n",
            "4423680/4422102 [==============================] - 0s 0us/step\n",
            "4431872/4422102 [==============================] - 0s 0us/step\n",
            "x_train shape: (60000, 28, 28) y_train shape: (60000,)\n"
          ]
        }
      ]
    },
    {
      "cell_type": "code",
      "source": [
        "# Imprimir la forma del conjunto de entrenamiento: tener  en cuenta que hay 60,000.00 datos de entrenamiento con un tamaño de imagen de 28x28\n",
        "#60,000.00 etiquetas de entrenamiento\n",
        "print(\"x_train shape:\", x_train.shape, \"y_train shape:\", y_train.shape)\n",
        "\n",
        "# Imprimir el número de conjuntos de datos de entrenamiento y prueba\n",
        "print(x_train.shape[0], 'train set')\n",
        "print(x_test.shape[0], 'test set')\n",
        "\n",
        "# Definir las etiquetas de texto\n",
        "fashion_mnist_labels = [\"Camiseta/parte superior\",      # index 0\n",
        "                        \"Pantalon\",                     # index 1\n",
        "                        \"Sueter\",                       # index 2 \n",
        "                        \"Vestido\",                      # index 3 \n",
        "                        \"Saco\",                         # index 4\n",
        "                        \"Sandalia\",                     # index 5\n",
        "                        \"Camisa\",                       # index 6 \n",
        "                        \"Tenis\",                        # index 7 \n",
        "                        \"Bolsa\",                      # index 8 \n",
        "                        \"Botin\"]                      # index 9"
      ],
      "metadata": {
        "colab": {
          "base_uri": "https://localhost:8080/"
        },
        "id": "4OPLfzP9rt2f",
        "outputId": "ba53526f-b52d-4d8a-dac4-eda08b0fcc89"
      },
      "execution_count": 3,
      "outputs": [
        {
          "output_type": "stream",
          "name": "stdout",
          "text": [
            "x_train shape: (60000, 28, 28) y_train shape: (60000,)\n",
            "60000 train set\n",
            "10000 test set\n"
          ]
        }
      ]
    },
    {
      "cell_type": "code",
      "source": [
        "# índice de imágenes, puede elegir cualquier número entre 0 y 59,999\n",
        "img_index = 5\n",
        "# y_train contiene las etiquetas, que van de 0 a 9\n",
        "# Imprime la etiqueta, por ejemplo 2 Sueter\n",
        "label_index = y_train[img_index]\n",
        "print (\"y = \" + str(label_index) + \" \" +(fashion_mnist_labels[label_index]))\n",
        "# Muestra una de las imágenes del conjunto de datos de entrenamiento.\n",
        "plt.imshow(x_train[img_index])"
      ],
      "metadata": {
        "colab": {
          "base_uri": "https://localhost:8080/",
          "height": 302
        },
        "id": "Ky5LdC_9tjuv",
        "outputId": "20a7e791-4bb2-4892-d55b-dfed88656eeb"
      },
      "execution_count": 4,
      "outputs": [
        {
          "output_type": "stream",
          "name": "stdout",
          "text": [
            "y = 2 Sueter\n"
          ]
        },
        {
          "output_type": "execute_result",
          "data": {
            "text/plain": [
              "<matplotlib.image.AxesImage at 0x7f29cc6dc850>"
            ]
          },
          "metadata": {},
          "execution_count": 4
        },
        {
          "output_type": "display_data",
          "data": {
            "text/plain": [
              "<Figure size 432x288 with 1 Axes>"
            ],
            "image/png": "[encoded data removed]"
          },
          "metadata": {
            "needs_background": "light"
          }
        }
      ]
    },
    {
      "cell_type": "code",
      "source": [
        "w, h = 28, 28\n",
        "x_train = x_train.reshape(x_train.shape[0], w, h, 1)\n",
        "x_test = x_test.reshape(x_test.shape[0], w, h, 1)\n",
        "\n",
        "x_train.shape"
      ],
      "metadata": {
        "colab": {
          "base_uri": "https://localhost:8080/"
        },
        "id": "tn122ppOuD0M",
        "outputId": "d7cec4a6-dbc2-469c-ff1a-dc44e0f0c919"
      },
      "execution_count": 5,
      "outputs": [
        {
          "output_type": "execute_result",
          "data": {
            "text/plain": [
              "(60000, 28, 28, 1)"
            ]
          },
          "metadata": {},
          "execution_count": 5
        }
      ]
    },
    {
      "cell_type": "code",
      "source": [
        "from tensorflow.keras.layers import Dense, Conv2D, MaxPooling2D, Dropout, Flatten\n",
        "\n",
        "model = tf.keras.Sequential()\n",
        "\n",
        "model.add(Conv2D(filters=64, kernel_size=2, padding='same', activation='relu', input_shape=(28,28,1))) \n",
        "model.add(MaxPooling2D(pool_size=2))\n",
        "model.add(Dropout(0.3))\n",
        "\n",
        "model.add(Conv2D(filters=32, kernel_size=2, padding='same', activation='relu'))\n",
        "model.add(MaxPooling2D(pool_size=2))\n",
        "model.add(Dropout(0.3))\n",
        "\n",
        "model.add(Flatten())\n",
        "model.add(Dense(256, activation='relu'))\n",
        "model.add(Dropout(0.5))\n",
        "model.add(Dense(10, activation='softmax'))\n",
        "\n",
        "model.summary()"
      ],
      "metadata": {
        "colab": {
          "base_uri": "https://localhost:8080/"
        },
        "id": "2CNCv-XhuUS5",
        "outputId": "632deed9-91e2-41ef-9f62-68b41009dad4"
      },
      "execution_count": 6,
      "outputs": [
        {
          "output_type": "stream",
          "name": "stdout",
          "text": [
            "Model: \"sequential\"\n",
            "_________________________________________________________________\n",
            " Layer (type)                Output Shape              Param #   \n",
            "=================================================================\n",
            " conv2d (Conv2D)             (None, 28, 28, 64)        320       \n",
            "                                                                 \n",
            " max_pooling2d (MaxPooling2D  (None, 14, 14, 64)       0         \n",
            " )                                                               \n",
            "                                                                 \n",
            " dropout (Dropout)           (None, 14, 14, 64)        0         \n",
            "                                                                 \n",
            " conv2d_1 (Conv2D)           (None, 14, 14, 32)        8224      \n",
            "                                                                 \n",
            " max_pooling2d_1 (MaxPooling  (None, 7, 7, 32)         0         \n",
            " 2D)                                                             \n",
            "                                                                 \n",
            " dropout_1 (Dropout)         (None, 7, 7, 32)          0         \n",
            "                                                                 \n",
            " flatten (Flatten)           (None, 1568)              0         \n",
            "                                                                 \n",
            " dense (Dense)               (None, 256)               401664    \n",
            "                                                                 \n",
            " dropout_2 (Dropout)         (None, 256)               0         \n",
            "                                                                 \n",
            " dense_1 (Dense)             (None, 10)                2570      \n",
            "                                                                 \n",
            "=================================================================\n",
            "Total params: 412,778\n",
            "Trainable params: 412,778\n",
            "Non-trainable params: 0\n",
            "_________________________________________________________________\n"
          ]
        }
      ]
    },
    {
      "cell_type": "code",
      "source": [
        "BATCH_SIZE=1000\n",
        "EPOCHS = 20\n",
        "\n",
        "model.compile(loss='sparse_categorical_crossentropy',\n",
        "             optimizer='adam',\n",
        "             metrics=['accuracy'])\n",
        "%time history = model.fit(x_train, y_train, epochs=EPOCHS, batch_size=BATCH_SIZE, validation_split=0.2, verbose=1)"
      ],
      "metadata": {
        "colab": {
          "base_uri": "https://localhost:8080/"
        },
        "id": "Hzvz-XiWuZN6",
        "outputId": "e9fe17c2-172c-4f6a-f796-5a1df5cce3ce"
      },
      "execution_count": 7,
      "outputs": [
        {
          "output_type": "stream",
          "name": "stdout",
          "text": [
            "Epoch 1/20\n",
            "48/48 [==============================] - 57s 1s/step - loss: 7.4959 - accuracy: 0.4434 - val_loss: 0.7881 - val_accuracy: 0.7275\n",
            "Epoch 2/20\n",
            "48/48 [==============================] - 51s 1s/step - loss: 1.0151 - accuracy: 0.6323 - val_loss: 0.6017 - val_accuracy: 0.7769\n",
            "Epoch 3/20\n",
            "48/48 [==============================] - 53s 1s/step - loss: 0.8320 - accuracy: 0.6912 - val_loss: 0.5441 - val_accuracy: 0.7944\n",
            "Epoch 4/20\n",
            "48/48 [==============================] - 51s 1s/step - loss: 0.7422 - accuracy: 0.7196 - val_loss: 0.5034 - val_accuracy: 0.8093\n",
            "Epoch 5/20\n",
            "48/48 [==============================] - 51s 1s/step - loss: 0.6869 - accuracy: 0.7433 - val_loss: 0.4749 - val_accuracy: 0.8162\n",
            "Epoch 6/20\n",
            "48/48 [==============================] - 51s 1s/step - loss: 0.6457 - accuracy: 0.7585 - val_loss: 0.4551 - val_accuracy: 0.8289\n",
            "Epoch 7/20\n",
            "48/48 [==============================] - 51s 1s/step - loss: 0.6056 - accuracy: 0.7717 - val_loss: 0.4353 - val_accuracy: 0.8358\n",
            "Epoch 8/20\n",
            "48/48 [==============================] - 51s 1s/step - loss: 0.5836 - accuracy: 0.7802 - val_loss: 0.4261 - val_accuracy: 0.8429\n",
            "Epoch 9/20\n",
            "48/48 [==============================] - 51s 1s/step - loss: 0.5637 - accuracy: 0.7885 - val_loss: 0.4142 - val_accuracy: 0.8469\n",
            "Epoch 10/20\n",
            "48/48 [==============================] - 51s 1s/step - loss: 0.5465 - accuracy: 0.7941 - val_loss: 0.3996 - val_accuracy: 0.8542\n",
            "Epoch 11/20\n",
            "48/48 [==============================] - 51s 1s/step - loss: 0.5288 - accuracy: 0.8019 - val_loss: 0.3955 - val_accuracy: 0.8555\n",
            "Epoch 12/20\n",
            "48/48 [==============================] - 51s 1s/step - loss: 0.5180 - accuracy: 0.8059 - val_loss: 0.3792 - val_accuracy: 0.8633\n",
            "Epoch 13/20\n",
            "48/48 [==============================] - 51s 1s/step - loss: 0.5043 - accuracy: 0.8113 - val_loss: 0.3758 - val_accuracy: 0.8629\n",
            "Epoch 14/20\n",
            "48/48 [==============================] - 52s 1s/step - loss: 0.4927 - accuracy: 0.8154 - val_loss: 0.3694 - val_accuracy: 0.8657\n",
            "Epoch 15/20\n",
            "48/48 [==============================] - 51s 1s/step - loss: 0.4825 - accuracy: 0.8192 - val_loss: 0.3563 - val_accuracy: 0.8698\n",
            "Epoch 16/20\n",
            "48/48 [==============================] - 51s 1s/step - loss: 0.4675 - accuracy: 0.8243 - val_loss: 0.3490 - val_accuracy: 0.8700\n",
            "Epoch 17/20\n",
            "48/48 [==============================] - 51s 1s/step - loss: 0.4605 - accuracy: 0.8254 - val_loss: 0.3457 - val_accuracy: 0.8725\n",
            "Epoch 18/20\n",
            "48/48 [==============================] - 51s 1s/step - loss: 0.4519 - accuracy: 0.8336 - val_loss: 0.3373 - val_accuracy: 0.8768\n",
            "Epoch 19/20\n",
            "48/48 [==============================] - 51s 1s/step - loss: 0.4409 - accuracy: 0.8374 - val_loss: 0.3394 - val_accuracy: 0.8774\n",
            "Epoch 20/20\n",
            "48/48 [==============================] - 51s 1s/step - loss: 0.4412 - accuracy: 0.8352 - val_loss: 0.3347 - val_accuracy: 0.8768\n",
            "CPU times: user 32min 15s, sys: 22.9 s, total: 32min 38s\n",
            "Wall time: 17min 22s\n"
          ]
        }
      ]
    },
    {
      "cell_type": "code",
      "source": [
        "train_loss, train_accuracy = model.evaluate(x_train, y_train, batch_size=BATCH_SIZE)\n",
        "train_accuracy"
      ],
      "metadata": {
        "colab": {
          "base_uri": "https://localhost:8080/"
        },
        "id": "EFLq9xe9zy54",
        "outputId": "41156211-c3e3-4ad8-9233-7ee47a883c99"
      },
      "execution_count": null,
      "outputs": [
        {
          "output_type": "stream",
          "name": "stdout",
          "text": [
            "60/60 [==============================] - 10s 159ms/step - loss: 0.3243 - accuracy: 0.8793\n"
          ]
        },
        {
          "output_type": "execute_result",
          "data": {
            "text/plain": [
              "0.8792833089828491"
            ]
          },
          "metadata": {},
          "execution_count": 12
        }
      ]
    },
    {
      "cell_type": "code",
      "source": [
        "test_loss, test_accuracy = model.evaluate(x_test, y_test, batch_size=BATCH_SIZE)\n",
        "test_accuracy"
      ],
      "metadata": {
        "colab": {
          "base_uri": "https://localhost:8080/"
        },
        "id": "8VWRu5APz3FX",
        "outputId": "0ab91dcf-4488-42a5-a93b-82f96a8adf2f"
      },
      "execution_count": 9,
      "outputs": [
        {
          "output_type": "stream",
          "name": "stdout",
          "text": [
            "10/10 [==============================] - 4s 420ms/step - loss: 0.3530 - accuracy: 0.8666\n"
          ]
        },
        {
          "output_type": "execute_result",
          "data": {
            "text/plain": [
              "0.866599977016449"
            ]
          },
          "metadata": {},
          "execution_count": 9
        }
      ]
    },
    {
      "cell_type": "code",
      "source": [
        "y_hat = model.predict(x_test)\n",
        "\n",
        "# Trazar una muestra aleatoria de 10 imágenes de prueba, sus etiquetas predichas y la realidad del terreno\n",
        "figure = plt.figure(figsize=(20, 8))\n",
        "for i, index in enumerate(np.random.choice(x_test.shape[0], size=15, replace=False)):\n",
        "    ax = figure.add_subplot(3, 5, i + 1, xticks=[], yticks=[])\n",
        "    # Mostrar cada imagen\n",
        "    ax.imshow(np.squeeze(x_test[index]))\n",
        "    predict_index = np.argmax(y_hat[index])\n",
        "    true_index = y_test[index]\n",
        "    # Establecer el título para cada imagen.\n",
        "    ax.set_title(\"{} ({})\".format(fashion_mnist_labels[predict_index], \n",
        "                                  fashion_mnist_labels[true_index]),\n",
        "                                  color=(\"purple\" if predict_index == true_index else \"black\"))"
      ],
      "metadata": {
        "colab": {
          "base_uri": "https://localhost:8080/",
          "height": 485
        },
        "id": "4CG7hlGb0WBR",
        "outputId": "76d8c21a-4997-4d12-a791-a72905a2f9c4"
      },
      "execution_count": 10,
      "outputs": [
        {
          "output_type": "display_data",
          "data": {
            "text/plain": [
              "<Figure size 1440x576 with 15 Axes>"
            ],
            "image/png": "[encoded data removed]"
          },
          "metadata": {}
        }
      ]
    },
    {
      "cell_type": "code",
      "source": [
        "import pandas as pd\n",
        "\n",
        "def plot_history(history, samples=10, init_phase_samples=None):\n",
        "    epochs = history.params['epochs']\n",
        "    \n",
        "    acc = history['acc']\n",
        "    val_acc = history.history['val_acc']\n",
        "\n",
        "    every_sample =  int(epochs / samples)\n",
        "    acc = pd.DataFrame(acc).iloc[::every_sample, :]\n",
        "    val_acc = pd.DataFrame(val_acc).iloc[::every_sample, :]\n",
        "\n",
        "    fig, ax = plt.subplots(figsize=(20,5))\n",
        "\n",
        "    ax.plot(acc, 'bo', label='Training acc')\n",
        "    ax.plot(val_acc, 'b', label='Validation acc')\n",
        "    ax.set_title('Training and validation accuracy')\n",
        "    ax.legend()\n",
        "\n",
        "plot_history"
      ],
      "metadata": {
        "colab": {
          "base_uri": "https://localhost:8080/"
        },
        "id": "aD8qrJT2GElo",
        "outputId": "bd3c48f9-c690-4a90-c9c6-b98167ded4cd"
      },
      "execution_count": 11,
      "outputs": [
        {
          "output_type": "execute_result",
          "data": {
            "text/plain": [
              "<function __main__.plot_history(history, samples=10, init_phase_samples=None)>"
            ]
          },
          "metadata": {},
          "execution_count": 11
        }
      ]
    }
  ]
}